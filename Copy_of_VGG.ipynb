{
 "cells": [
  {
   "cell_type": "code",
   "execution_count": 1,
   "metadata": {
    "colab": {
     "base_uri": "https://localhost:8080/",
     "height": 122
    },
    "colab_type": "code",
    "id": "XHhw-qKug_F8",
    "outputId": "5367f31b-e969-4747-bbbb-c05b4c1e5114"
   },
   "outputs": [
    {
     "name": "stdout",
     "output_type": "stream",
     "text": [
      "Go to this URL in a browser: https://accounts.google.com/o/oauth2/auth?client_id=947318989803-6bn6qk8qdgf4n4g3pfee6491hc0brc4i.apps.googleusercontent.com&redirect_uri=urn%3Aietf%3Awg%3Aoauth%3A2.0%3Aoob&scope=email%20https%3A%2F%2Fwww.googleapis.com%2Fauth%2Fdocs.test%20https%3A%2F%2Fwww.googleapis.com%2Fauth%2Fdrive%20https%3A%2F%2Fwww.googleapis.com%2Fauth%2Fdrive.photos.readonly%20https%3A%2F%2Fwww.googleapis.com%2Fauth%2Fpeopleapi.readonly&response_type=code\n",
      "\n",
      "Enter your authorization code:\n",
      "··········\n",
      "Mounted at /content/drive\n"
     ]
    }
   ],
   "source": [
    "from google.colab import drive\n",
    "drive.mount('/content/drive')"
   ]
  },
  {
   "cell_type": "code",
   "execution_count": 1,
   "metadata": {
    "colab": {},
    "colab_type": "code",
    "id": "6joiL5I_gcUj"
   },
   "outputs": [
    {
     "name": "stderr",
     "output_type": "stream",
     "text": [
      "Using TensorFlow backend.\n"
     ]
    }
   ],
   "source": [
    "import pandas as pd\n",
    "import numpy as np\n",
    "import matplotlib.pyplot as plt\n",
    "from keras.models import Model , Sequential\n",
    "from keras.layers import Dense, Activation , Conv2D, Conv3D,Flatten , MaxPool2D, MaxPooling2D, Dropout , Add, Input, AveragePooling2D, UpSampling2D , ZeroPadding2D\n",
    "import os\n",
    "import sys\n",
    "from keras.applications.resnet50 import preprocess_input, decode_predictions , ResNet50\n",
    "from keras.utils import to_categorical\n",
    "from keras.optimizers import rmsprop , adam, Adagrad , SGD\n",
    "from keras import callbacks\n",
    "from keras.preprocessing.image import ImageDataGenerator \n",
    "from keras.layers import Dropout, Activation, Conv2D, GlobalAveragePooling2D, merge\n",
    "from keras.layers import BatchNormalization\n",
    "from keras.initializers import glorot_uniform\n",
    "seed_value = 1234\n",
    "os.environ['PYTHONHASHSEED']=str(seed_value)\n",
    "import random\n",
    "random.seed(seed_value)\n",
    "import numpy as np\n",
    "np.random.seed(seed_value)"
   ]
  },
  {
   "cell_type": "code",
   "execution_count": 2,
   "metadata": {
    "colab": {
     "base_uri": "https://localhost:8080/",
     "height": 34
    },
    "colab_type": "code",
    "id": "vZQK-3WzgWnS",
    "outputId": "c6cedb18-0ff9-4ecc-9d32-298d091a3a0c"
   },
   "outputs": [
    {
     "name": "stderr",
     "output_type": "stream",
     "text": [
      "ERROR:root:Internal Python error in the inspect module.\n",
      "Below is the traceback from this internal error.\n",
      "\n"
     ]
    },
    {
     "name": "stdout",
     "output_type": "stream",
     "text": [
      "Traceback (most recent call last):\n",
      "  File \"//anaconda3/lib/python3.7/site-packages/IPython/core/interactiveshell.py\", line 3325, in run_code\n",
      "    exec(code_obj, self.user_global_ns, self.user_ns)\n",
      "  File \"<ipython-input-2-d03661bc8c9a>\", line 7, in <module>\n",
      "    train_data = pd.read_csv(sys.argv[1],header=None,delimiter=\" \")\n",
      "  File \"//anaconda3/lib/python3.7/site-packages/pandas/io/parsers.py\", line 702, in parser_f\n",
      "    return _read(filepath_or_buffer, kwds)\n",
      "  File \"//anaconda3/lib/python3.7/site-packages/pandas/io/parsers.py\", line 429, in _read\n",
      "    parser = TextFileReader(filepath_or_buffer, **kwds)\n",
      "  File \"//anaconda3/lib/python3.7/site-packages/pandas/io/parsers.py\", line 895, in __init__\n",
      "    self._make_engine(self.engine)\n",
      "  File \"//anaconda3/lib/python3.7/site-packages/pandas/io/parsers.py\", line 1122, in _make_engine\n",
      "    self._engine = CParserWrapper(self.f, **self.options)\n",
      "  File \"//anaconda3/lib/python3.7/site-packages/pandas/io/parsers.py\", line 1853, in __init__\n",
      "    self._reader = parsers.TextReader(src, **kwds)\n",
      "  File \"pandas/_libs/parsers.pyx\", line 387, in pandas._libs.parsers.TextReader.__cinit__\n",
      "  File \"pandas/_libs/parsers.pyx\", line 705, in pandas._libs.parsers.TextReader._setup_parser_source\n",
      "FileNotFoundError: [Errno 2] File b'/content/drive/My Drive/Data/train.csv' does not exist: b'/content/drive/My Drive/Data/train.csv'\n",
      "\n",
      "During handling of the above exception, another exception occurred:\n",
      "\n",
      "Traceback (most recent call last):\n",
      "  File \"//anaconda3/lib/python3.7/site-packages/IPython/core/interactiveshell.py\", line 2039, in showtraceback\n",
      "    stb = value._render_traceback_()\n",
      "AttributeError: 'FileNotFoundError' object has no attribute '_render_traceback_'\n",
      "\n",
      "During handling of the above exception, another exception occurred:\n",
      "\n",
      "Traceback (most recent call last):\n",
      "  File \"//anaconda3/lib/python3.7/site-packages/IPython/core/ultratb.py\", line 1101, in get_records\n",
      "    return _fixed_getinnerframes(etb, number_of_lines_of_context, tb_offset)\n",
      "  File \"//anaconda3/lib/python3.7/site-packages/IPython/core/ultratb.py\", line 319, in wrapped\n",
      "    return f(*args, **kwargs)\n",
      "  File \"//anaconda3/lib/python3.7/site-packages/IPython/core/ultratb.py\", line 353, in _fixed_getinnerframes\n",
      "    records = fix_frame_records_filenames(inspect.getinnerframes(etb, context))\n",
      "  File \"//anaconda3/lib/python3.7/inspect.py\", line 1502, in getinnerframes\n",
      "    frameinfo = (tb.tb_frame,) + getframeinfo(tb, context)\n",
      "  File \"//anaconda3/lib/python3.7/inspect.py\", line 1460, in getframeinfo\n",
      "    filename = getsourcefile(frame) or getfile(frame)\n",
      "  File \"//anaconda3/lib/python3.7/inspect.py\", line 696, in getsourcefile\n",
      "    if getattr(getmodule(object, filename), '__loader__', None) is not None:\n",
      "  File \"//anaconda3/lib/python3.7/inspect.py\", line 739, in getmodule\n",
      "    f = getabsfile(module)\n",
      "  File \"//anaconda3/lib/python3.7/inspect.py\", line 708, in getabsfile\n",
      "    _filename = getsourcefile(object) or getfile(object)\n",
      "  File \"//anaconda3/lib/python3.7/inspect.py\", line 693, in getsourcefile\n",
      "    if os.path.exists(filename):\n",
      "  File \"//anaconda3/lib/python3.7/genericpath.py\", line 19, in exists\n",
      "    os.stat(path)\n",
      "KeyboardInterrupt\n"
     ]
    },
    {
     "ename": "FileNotFoundError",
     "evalue": "[Errno 2] File b'/content/drive/My Drive/Data/train.csv' does not exist: b'/content/drive/My Drive/Data/train.csv'",
     "output_type": "error",
     "traceback": [
      "\u001b[0;31m---------------------------------------------------------------------------\u001b[0m"
     ]
    }
   ],
   "source": [
    "data_dir = \"/content/drive/My Drive/Data/\"\n",
    "sys.argv = []\n",
    "sys.argv.append(data_dir+\"cnn_a.py\")\n",
    "sys.argv.append(data_dir+\"train.csv\")\n",
    "sys.argv.append(data_dir+\"test.csv\")\n",
    "sys.argv.append(data_dir+\"output.txt\")\n",
    "train_data = pd.read_csv(sys.argv[1],header=None,delimiter=\" \")\n",
    "test_data  = pd.read_csv(sys.argv[2],header=None,delimiter=\" \")\n",
    "print(train_data.shape,test_data.shape)"
   ]
  },
  {
   "cell_type": "code",
   "execution_count": null,
   "metadata": {},
   "outputs": [],
   "source": []
  },
  {
   "cell_type": "code",
   "execution_count": 8,
   "metadata": {
    "colab": {
     "base_uri": "https://localhost:8080/",
     "height": 214
    },
    "colab_type": "code",
    "id": "Vej4OLO5iTXO",
    "outputId": "97ad4caf-be22-4421-d027-bfe4fe7926df"
   },
   "outputs": [
    {
     "data": {
      "image/png": "[encoded data removed]",
      "text/plain": [
       "<Figure size 216x216 with 1 Axes>"
      ]
     },
     "metadata": {
      "tags": []
     },
     "output_type": "display_data"
    }
   ],
   "source": [
    "def plot_CIFAR(image):\n",
    "    fig = plt.figure(figsize=(3,3))\n",
    "    ax = fig.add_subplot(111)\n",
    "    ax.imshow(image,interpolation='bicubic')\n",
    "plot_CIFAR(images[100])"
   ]
  },
  {
   "cell_type": "code",
   "execution_count": 0,
   "metadata": {
    "colab": {},
    "colab_type": "code",
    "id": "qLtlTK1Sgfte"
   },
   "outputs": [],
   "source": [
    "train_image = train_data.iloc[:,:-1].values\n",
    "R = train_image[:,0:1024].reshape(train_image.shape[0],32,32)\n",
    "G = train_image[:,1024:2048].reshape(train_image.shape[0],32,32)\n",
    "B = train_image[:,2048:3072].reshape(train_image.shape[0],32,32)\n",
    "images = np.stack((R.T,G.T,B.T),axis=0).T"
   ]
  },
  {
   "cell_type": "code",
   "execution_count": 9,
   "metadata": {
    "colab": {
     "base_uri": "https://localhost:8080/",
     "height": 34
    },
    "colab_type": "code",
    "id": "8-T1hturoIIz",
    "outputId": "ef0837af-bcc8-4e9e-d1da-e6baf24300dd"
   },
   "outputs": [
    {
     "name": "stdout",
     "output_type": "stream",
     "text": [
      "(50000, 32, 32, 3) (32, 32, 3)\n"
     ]
    }
   ],
   "source": [
    "\n",
    "images = images.astype(\"float32\")\n",
    "mean = np.mean(images,axis=(0,1,2,3))\n",
    "std = np.std(images,axis=(0,1,2,3))\n",
    "images = (images)/255\n",
    "print(images.shape,images[0].shape)"
   ]
  },
  {
   "cell_type": "code",
   "execution_count": 11,
   "metadata": {
    "colab": {
     "base_uri": "https://localhost:8080/",
     "height": 54
    },
    "colab_type": "code",
    "id": "-o_FryPmgmkV",
    "outputId": "b59cd092-c2e5-4905-a690-17a26d63ad82"
   },
   "outputs": [
    {
     "name": "stdout",
     "output_type": "stream",
     "text": [
      "(50000, 32, 32) (50000, 32, 32) (50000, 32, 32) (40000, 32, 32, 3) (40000, 100) (40000, 20) (10000, 32, 32, 3) (10000, 100) (10000, 20)\n"
     ]
    }
   ],
   "source": [
    "k = 40000\n",
    "X_train = images[:k]\n",
    "X_val = images[k:]\n",
    "Y_train_class = train_data.iloc[:k,-1].values\n",
    "Y_val_class = train_data.iloc[k:,-1].values\n",
    "Y_val_class = to_categorical(train_data.iloc[k:,-1].values).reshape(train_data.shape[0]-k,100)\n",
    "Y_train_class = to_categorical(train_data.iloc[:k,-1].values).reshape(k,100) \n",
    "Y_train_group = train_data.iloc[:k,-2].values\n",
    "Y_val_group = train_data.iloc[k:,-2].values\n",
    "Y_val_group = to_categorical(train_data.iloc[k:,-2].values).reshape(train_data.shape[0]-k,20)\n",
    "Y_train_group = to_categorical(train_data.iloc[:k,-2].values).reshape(k,20) \n",
    "print(R.shape,G.shape,B.shape,X_train.shape,Y_train_class.shape,Y_train_group.shape,X_val.shape,Y_val_class.shape,Y_val_group.shape)\n"
   ]
  },
  {
   "cell_type": "code",
   "execution_count": 12,
   "metadata": {
    "colab": {
     "base_uri": "https://localhost:8080/",
     "height": 71
    },
    "colab_type": "code",
    "id": "4Nx48dDGffCS",
    "outputId": "0f695df7-f120-4c1e-cf7c-c3f1180ad6da"
   },
   "outputs": [
    {
     "name": "stderr",
     "output_type": "stream",
     "text": [
      "/usr/local/lib/python3.6/dist-packages/keras_preprocessing/image/image_data_generator.py:336: UserWarning: This ImageDataGenerator specifies `zca_whitening`, which overrides setting of `featurewise_center`.\n",
      "  warnings.warn('This ImageDataGenerator specifies '\n"
     ]
    }
   ],
   "source": [
    "#data augmentation\n",
    "datagen = ImageDataGenerator(\n",
    "    featurewise_center=False,\n",
    "    samplewise_center=False,\n",
    "    featurewise_std_normalization=False,\n",
    "    samplewise_std_normalization=False,\n",
    "    zca_whitening=True,\n",
    "    rotation_range=15,\n",
    "    width_shift_range=0.1,\n",
    "    height_shift_range=0.1,\n",
    "    horizontal_flip=True,\n",
    "    vertical_flip=False,\n",
    "    )\n",
    "datagen.fit(X_train)"
   ]
  },
  {
   "cell_type": "code",
   "execution_count": 0,
   "metadata": {
    "colab": {},
    "colab_type": "code",
    "id": "A0p6-SUQf5Ub"
   },
   "outputs": [],
   "source": [
    "def lr_scheduler(epoch):\n",
    "  learning_rate = 1e-3\n",
    "  if (epoch>180):\n",
    "    learning_rate*=.5e-3\n",
    "  elif(epoch>160):\n",
    "    learning_rate*=1e-3\n",
    "  elif(epoch>120):\n",
    "    learning_rate*=1e-2\n",
    "  elif(epoch>80):\n",
    "    learning_rate*=1e-1\n",
    "  return learning_rate\n",
    "    "
   ]
  },
  {
   "cell_type": "code",
   "execution_count": 0,
   "metadata": {
    "colab": {},
    "colab_type": "code",
    "id": "K1h_OZc0f5Lg"
   },
   "outputs": [],
   "source": [
    "def vgg(X_train):\n",
    "  inputs = Input(shape=X_train[0].shape)\n",
    "  x = Conv2D(filters=32, kernel_size=(3,3),kernel_initializer=glorot_uniform(seed=0),activation=\"relu\",padding=\"same\")(inputs)\n",
    "  x = Conv2D(filters=32, kernel_size=(3,3),kernel_initializer=glorot_uniform(seed=0),activation=\"relu\",padding=\"same\")(x)\n",
    "  x = MaxPool2D(pool_size=(2,2))(x)\n",
    "  x = Conv2D(filters=64, kernel_size=(3,3),kernel_initializer=glorot_uniform(seed=0),activation=\"relu\",padding=\"same\")(x)\n",
    "  x = Conv2D(filters=64, kernel_size=(3,3),kernel_initializer=glorot_uniform(seed=0),activation=\"relu\",padding=\"same\")(x)\n",
    "  x = MaxPool2D(pool_size=(2,2))(x)\n",
    "  x = Conv2D(filters=128, kernel_size=(3,3),kernel_initializer=glorot_uniform(seed=0),activation=\"relu\",padding=\"same\")(x)\n",
    "  x = Conv2D(filters=128, kernel_size=(3,3),kernel_initializer=glorot_uniform(seed=0),activation=\"relu\",padding=\"same\")(x)\n",
    "  x = MaxPool2D(pool_size=(2,2))(x)\n",
    "  x = Flatten()(x)\n",
    "  x = Dense(128,activation=\"relu\",kernel_initializer=glorot_uniform(seed=0))(x)\n",
    "  x = Dense(10,activation=\"softmax\")(x)\n",
    "  model = Model(inputs=inputs,output=x)\n",
    "  return model\n"
   ]
  },
  {
   "cell_type": "code",
   "execution_count": 0,
   "metadata": {
    "colab": {},
    "colab_type": "code",
    "id": "ImRDjxpjgBvu"
   },
   "outputs": [],
   "source": [
    "def resnet20(X_train):\n",
    "  inputs = Input(shape=X_train[0].shape)\n",
    "  x = Conv2D(filters=16,kernel_size=(3,3),strides=1,padding=\"same\",activation=\"relu\")(inputs)\n",
    "  x = BatchNormalization(axis=3)(x)\n",
    "  x = Activation(activation=\"relu\")(x)\n",
    "  \n",
    "  x = id_block_50([16,16],3,x)\n",
    "  x = id_block_50([16,16],3,x)\n",
    "  x = id_block_50([16,16],3,x)\n",
    "  \n",
    "  x = conv_block_50([32,32],3,x,2)\n",
    "  x = id_block_50([32,32],3,x)\n",
    "  x = id_block_50([32,32],3,x)\n",
    "\n",
    "\n",
    "  x = conv_block_50([64,64],3,x,2)\n",
    "  x = id_block_50([64,64],3,x)\n",
    "  x = id_block_50([64,64],3,x)\n",
    "  x = AveragePooling2D(pool_size=(8,8))(x)\n",
    "  x = Flatten()(x)\n",
    "  x = Dense(10,activation=\"softmax\")(x)\n",
    "  model = Model(inputs = inputs, output=x)\n",
    "  return model"
   ]
  },
  {
   "cell_type": "code",
   "execution_count": 0,
   "metadata": {
    "colab": {},
    "colab_type": "code",
    "id": "r-hH_eppgEG_"
   },
   "outputs": [],
   "source": [
    "def conv_block_50(filters,f,X_last,s):\n",
    "\n",
    "  x = Conv2D(filters=filters[0],kernel_size=(3,3),strides=(s,s),padding=\"same\",kernel_initializer=glorot_uniform(seed=0))(X_last)\n",
    "  x = BatchNormalization(axis=3)(x)\n",
    "  x = Activation(activation=\"relu\")(x)\n",
    "  x = Conv2D(filters=filters[1],kernel_size=(3,3),strides=(1,1),padding=\"same\",kernel_initializer=glorot_uniform(seed=0))(x)\n",
    "  X_last = Conv2D(filters=filters[1],kernel_size=(3,3),strides=(s,s),padding=\"same\",kernel_initializer=glorot_uniform(seed=0))(X_last)\n",
    "  x = BatchNormalization(axis=3)(x)\n",
    "\n",
    "  x = Add()([x,X_last])\n",
    "  x = Activation(activation=\"relu\")(x)\n",
    "  return x\n",
    "  \n"
   ]
  },
  {
   "cell_type": "code",
   "execution_count": 0,
   "metadata": {
    "colab": {},
    "colab_type": "code",
    "id": "rGbmnxyygF2X"
   },
   "outputs": [],
   "source": [
    "def id_block_50(filters,f,X_last):\n",
    "\n",
    "  x = Conv2D(filters=filters[0],kernel_size=(f,f),strides=(1,1),padding=\"same\",kernel_initializer=glorot_uniform(seed=0))(X_last)\n",
    "  x = BatchNormalization(axis=3)(x)\n",
    "  x = Activation(activation=\"relu\")(x)\n",
    "  x = Conv2D(filters=filters[1],kernel_size=(f,f),strides=(1,1),padding=\"same\",kernel_initializer=glorot_uniform(seed=0))(x)\n",
    "  x = BatchNormalization(axis=3)(x)\n",
    "  # x = Activation(activation=\"relu\")(x)\n",
    "  x = Add()([x,X_last])\n",
    "  x = Activation(activation=\"relu\")(x)\n",
    "  return x\n",
    "  "
   ]
  },
  {
   "cell_type": "code",
   "execution_count": 0,
   "metadata": {
    "colab": {},
    "colab_type": "code",
    "id": "-VrpB4fPgHrX"
   },
   "outputs": [],
   "source": [
    "def id_block(filters,f,X_last):\n",
    "\n",
    "  x = Conv2D(filters=filters[0],kernel_size=(1,1),strides=(1,1),padding=\"valid\",kernel_initializer=glorot_uniform(seed=0))(X_last)\n",
    "  x = BatchNormalization(axis=3)(x)\n",
    "  x = Activation(activation=\"relu\")(x)\n",
    "  x = Conv2D(filters=filters[1],kernel_size=(f,f),strides=(1,1),padding=\"same\",kernel_initializer=glorot_uniform(seed=0))(x)\n",
    "  x = BatchNormalization(axis=3)(x)\n",
    "  x = Activation(activation=\"relu\")(x)\n",
    "  x = Conv2D(filters=filters[2],kernel_size=(1,1),strides=(1,1),padding=\"valid\",kernel_initializer=glorot_uniform(seed=0))(x)\n",
    "  x = BatchNormalization(axis=3)(x)\n",
    "  x = Add()([x,X_last])\n",
    "  x = Activation(activation=\"relu\")(x)\n",
    "  return x\n",
    "  "
   ]
  },
  {
   "cell_type": "code",
   "execution_count": 0,
   "metadata": {
    "colab": {},
    "colab_type": "code",
    "id": "ilT5KqrugJ2O"
   },
   "outputs": [],
   "source": [
    "def conv_block(filters,f,X_last,s):\n",
    "\n",
    "  x = Conv2D(filters=filters[0],kernel_size=(1,1),strides=(s,s),padding=\"valid\",kernel_initializer=glorot_uniform(seed=0))(X_last)\n",
    "  x = BatchNormalization(axis=3)(x)\n",
    "  x = Activation(activation=\"relu\")(x)\n",
    "  x = Conv2D(filters=filters[1],kernel_size=(f,f),strides=(1,1),padding=\"same\",kernel_initializer=glorot_uniform(seed=0))(x)\n",
    "  x = BatchNormalization(axis=3)(x)\n",
    "  x = Activation(activation=\"relu\")(x)\n",
    "  x = Conv2D(filters=filters[2],kernel_size=(1,1),strides=(1,1),padding=\"valid\",kernel_initializer=glorot_uniform(seed=0))(x)\n",
    "  x = BatchNormalization(axis=3)(x)\n",
    "  \n",
    "  X_last = Conv2D(filters=filters[2],kernel_size=(1,1),strides=(s,s),padding=\"valid\",kernel_initializer=glorot_uniform(seed=0))(X_last)\n",
    "  X_last = BatchNormalization(axis=3)(X_last)\n",
    "\n",
    "  x = Add()([x,X_last])\n",
    "  x = Activation(activation=\"relu\")(x)\n",
    "  return x\n",
    "  \n"
   ]
  },
  {
   "cell_type": "code",
   "execution_count": 19,
   "metadata": {
    "colab": {
     "base_uri": "https://localhost:8080/",
     "height": 850
    },
    "colab_type": "code",
    "id": "-4-kMl_77Y5L",
    "outputId": "34397221-6368-4e56-9e63-b6d59ceb1923"
   },
   "outputs": [
    {
     "name": "stdout",
     "output_type": "stream",
     "text": [
      "Model: \"sequential_3\"\n",
      "_________________________________________________________________\n",
      "Layer (type)                 Output Shape              Param #   \n",
      "=================================================================\n",
      "conv2d_19 (Conv2D)           (None, 32, 32, 96)        2688      \n",
      "_________________________________________________________________\n",
      "dropout_19 (Dropout)         (None, 32, 32, 96)        0         \n",
      "_________________________________________________________________\n",
      "conv2d_20 (Conv2D)           (None, 32, 32, 96)        83040     \n",
      "_________________________________________________________________\n",
      "dropout_20 (Dropout)         (None, 32, 32, 96)        0         \n",
      "_________________________________________________________________\n",
      "conv2d_21 (Conv2D)           (None, 16, 16, 96)        83040     \n",
      "_________________________________________________________________\n",
      "dropout_21 (Dropout)         (None, 16, 16, 96)        0         \n",
      "_________________________________________________________________\n",
      "conv2d_22 (Conv2D)           (None, 16, 16, 192)       166080    \n",
      "_________________________________________________________________\n",
      "dropout_22 (Dropout)         (None, 16, 16, 192)       0         \n",
      "_________________________________________________________________\n",
      "conv2d_23 (Conv2D)           (None, 16, 16, 192)       331968    \n",
      "_________________________________________________________________\n",
      "dropout_23 (Dropout)         (None, 16, 16, 192)       0         \n",
      "_________________________________________________________________\n",
      "conv2d_24 (Conv2D)           (None, 8, 8, 192)         331968    \n",
      "_________________________________________________________________\n",
      "dropout_24 (Dropout)         (None, 8, 8, 192)         0         \n",
      "_________________________________________________________________\n",
      "conv2d_25 (Conv2D)           (None, 8, 8, 192)         331968    \n",
      "_________________________________________________________________\n",
      "dropout_25 (Dropout)         (None, 8, 8, 192)         0         \n",
      "_________________________________________________________________\n",
      "conv2d_26 (Conv2D)           (None, 8, 8, 192)         37056     \n",
      "_________________________________________________________________\n",
      "dropout_26 (Dropout)         (None, 8, 8, 192)         0         \n",
      "_________________________________________________________________\n",
      "conv2d_27 (Conv2D)           (None, 8, 8, 100)         19300     \n",
      "_________________________________________________________________\n",
      "dropout_27 (Dropout)         (None, 8, 8, 100)         0         \n",
      "_________________________________________________________________\n",
      "global_average_pooling2d_2 ( (None, 100)               0         \n",
      "_________________________________________________________________\n",
      "activation_2 (Activation)    (None, 100)               0         \n",
      "=================================================================\n",
      "Total params: 1,387,108\n",
      "Trainable params: 1,387,108\n",
      "Non-trainable params: 0\n",
      "_________________________________________________________________\n",
      "None\n"
     ]
    }
   ],
   "source": [
    "model = Sequential()\n",
    "model.add(Conv2D(96, kernel_size=3, strides = 1, padding='same', activation ='relu', input_shape=(32,32,3)))\n",
    "model.add(Dropout(0.5))\n",
    "model.add(Conv2D(96, kernel_size=3, strides = 1, padding='same', activation ='relu'))\n",
    "model.add(Dropout(0.2))\n",
    "model.add(Conv2D(96, kernel_size=3, strides = 2, padding='same', activation ='relu'))\n",
    "model.add(Dropout(0.2))\n",
    "model.add(Conv2D(192, kernel_size=3, strides = 1, padding='same', activation ='relu'))\n",
    "model.add(Dropout(0.2))\n",
    "model.add(Conv2D(192, kernel_size=3, strides = 1, padding='same', activation ='relu'))\n",
    "model.add(Dropout(0.2))\n",
    "model.add(Conv2D(192, kernel_size=3, strides = 2, padding='same', activation ='relu'))\n",
    "model.add(Dropout(0.2))\n",
    "model.add(Conv2D(192, kernel_size=3, strides = 1, padding='same', activation ='relu'))\n",
    "model.add(Dropout(0.2))\n",
    "model.add(Conv2D(192, kernel_size=1, strides = 1, padding='same', activation ='relu'))\n",
    "model.add(Dropout(0.3))\n",
    "model.add(Conv2D(100, kernel_size=1, strides = 1, padding='same', activation ='relu'))\n",
    "model.add(Dropout(0.5))\n",
    "model.add(GlobalAveragePooling2D())\n",
    "model.add(Activation('softmax'))\n",
    "\n",
    "sgd = SGD(lr=0.01, decay=1e-6, momentum=0.9, nesterov=True)\n",
    "model.compile(loss='categorical_crossentropy', optimizer=sgd, metrics=['accuracy'])\n",
    "\n",
    "\n",
    "print(model.summary())"
   ]
  },
  {
   "cell_type": "code",
   "execution_count": 20,
   "metadata": {
    "colab": {
     "base_uri": "https://localhost:8080/",
     "height": 1000
    },
    "colab_type": "code",
    "id": "DGIQLM5f7mNw",
    "outputId": "a51d3dab-2518-4435-ccaf-526656fa9e5d"
   },
   "outputs": [
    {
     "name": "stdout",
     "output_type": "stream",
     "text": [
      "WARNING:tensorflow:From /usr/local/lib/python3.6/dist-packages/tensorflow_core/python/ops/math_grad.py:1424: where (from tensorflow.python.ops.array_ops) is deprecated and will be removed in a future version.\n",
      "Instructions for updating:\n",
      "Use tf.where in 2.0, which has the same broadcast rule as np.where\n",
      "WARNING:tensorflow:From /usr/local/lib/python3.6/dist-packages/keras/backend/tensorflow_backend.py:1033: The name tf.assign_add is deprecated. Please use tf.compat.v1.assign_add instead.\n",
      "\n",
      "WARNING:tensorflow:From /usr/local/lib/python3.6/dist-packages/keras/backend/tensorflow_backend.py:1020: The name tf.assign is deprecated. Please use tf.compat.v1.assign instead.\n",
      "\n",
      "WARNING:tensorflow:From /usr/local/lib/python3.6/dist-packages/keras/backend/tensorflow_backend.py:3005: The name tf.Session is deprecated. Please use tf.compat.v1.Session instead.\n",
      "\n",
      "Train on 40000 samples, validate on 10000 samples\n",
      "Epoch 1/70\n",
      "WARNING:tensorflow:From /usr/local/lib/python3.6/dist-packages/keras/backend/tensorflow_backend.py:190: The name tf.get_default_session is deprecated. Please use tf.compat.v1.get_default_session instead.\n",
      "\n",
      "WARNING:tensorflow:From /usr/local/lib/python3.6/dist-packages/keras/backend/tensorflow_backend.py:197: The name tf.ConfigProto is deprecated. Please use tf.compat.v1.ConfigProto instead.\n",
      "\n",
      "WARNING:tensorflow:From /usr/local/lib/python3.6/dist-packages/keras/backend/tensorflow_backend.py:207: The name tf.global_variables is deprecated. Please use tf.compat.v1.global_variables instead.\n",
      "\n",
      "WARNING:tensorflow:From /usr/local/lib/python3.6/dist-packages/keras/backend/tensorflow_backend.py:216: The name tf.is_variable_initialized is deprecated. Please use tf.compat.v1.is_variable_initialized instead.\n",
      "\n",
      "WARNING:tensorflow:From /usr/local/lib/python3.6/dist-packages/keras/backend/tensorflow_backend.py:223: The name tf.variables_initializer is deprecated. Please use tf.compat.v1.variables_initializer instead.\n",
      "\n",
      "40000/40000 [==============================] - 82s 2ms/step - loss: 4.5976 - acc: 0.0118 - val_loss: 4.5681 - val_acc: 0.0173\n",
      "Epoch 2/70\n",
      "40000/40000 [==============================] - 70s 2ms/step - loss: 4.5324 - acc: 0.0164 - val_loss: 4.4987 - val_acc: 0.0190\n",
      "Epoch 3/70\n",
      "40000/40000 [==============================] - 71s 2ms/step - loss: 4.4143 - acc: 0.0303 - val_loss: 4.2645 - val_acc: 0.0494\n",
      "Epoch 4/70\n",
      "40000/40000 [==============================] - 70s 2ms/step - loss: 4.1529 - acc: 0.0520 - val_loss: 3.9956 - val_acc: 0.0756\n",
      "Epoch 5/70\n",
      "40000/40000 [==============================] - 70s 2ms/step - loss: 3.9495 - acc: 0.0809 - val_loss: 3.7769 - val_acc: 0.1192\n",
      "Epoch 6/70\n",
      "40000/40000 [==============================] - 70s 2ms/step - loss: 3.7789 - acc: 0.1106 - val_loss: 3.6191 - val_acc: 0.1457\n",
      "Epoch 7/70\n",
      "40000/40000 [==============================] - 68s 2ms/step - loss: 3.6472 - acc: 0.1309 - val_loss: 3.4856 - val_acc: 0.1702\n",
      "Epoch 8/70\n",
      "40000/40000 [==============================] - 72s 2ms/step - loss: 3.5191 - acc: 0.1563 - val_loss: 3.3619 - val_acc: 0.1983\n",
      "Epoch 9/70\n",
      "40000/40000 [==============================] - 73s 2ms/step - loss: 3.3909 - acc: 0.1772 - val_loss: 3.1598 - val_acc: 0.2320\n",
      "Epoch 10/70\n",
      "40000/40000 [==============================] - 72s 2ms/step - loss: 3.2729 - acc: 0.2003 - val_loss: 3.0757 - val_acc: 0.2512\n",
      "Epoch 11/70\n",
      "40000/40000 [==============================] - 70s 2ms/step - loss: 3.1736 - acc: 0.2209 - val_loss: 3.0504 - val_acc: 0.2543\n",
      "Epoch 12/70\n",
      "40000/40000 [==============================] - 70s 2ms/step - loss: 3.0685 - acc: 0.2415 - val_loss: 2.8929 - val_acc: 0.2853\n",
      "Epoch 13/70\n",
      "40000/40000 [==============================] - 70s 2ms/step - loss: 2.9716 - acc: 0.2573 - val_loss: 2.7603 - val_acc: 0.3128\n",
      "Epoch 14/70\n",
      "40000/40000 [==============================] - 71s 2ms/step - loss: 2.8896 - acc: 0.2756 - val_loss: 2.7195 - val_acc: 0.3179\n",
      "Epoch 15/70\n",
      "40000/40000 [==============================] - 69s 2ms/step - loss: 2.8144 - acc: 0.2902 - val_loss: 2.5851 - val_acc: 0.3575\n",
      "Epoch 16/70\n",
      "40000/40000 [==============================] - 69s 2ms/step - loss: 2.7437 - acc: 0.3066 - val_loss: 2.4999 - val_acc: 0.3721\n",
      "Epoch 17/70\n",
      "40000/40000 [==============================] - 73s 2ms/step - loss: 2.6781 - acc: 0.3200 - val_loss: 2.4947 - val_acc: 0.3680\n",
      "Epoch 18/70\n",
      "40000/40000 [==============================] - 73s 2ms/step - loss: 2.6207 - acc: 0.3290 - val_loss: 2.4220 - val_acc: 0.3972\n",
      "Epoch 19/70\n",
      "40000/40000 [==============================] - 72s 2ms/step - loss: 2.5557 - acc: 0.3468 - val_loss: 2.4270 - val_acc: 0.3886\n",
      "Epoch 20/70\n",
      "40000/40000 [==============================] - 71s 2ms/step - loss: 2.5042 - acc: 0.3557 - val_loss: 2.3696 - val_acc: 0.4048\n",
      "Epoch 21/70\n",
      "40000/40000 [==============================] - 70s 2ms/step - loss: 2.4575 - acc: 0.3679 - val_loss: 2.3099 - val_acc: 0.4167\n",
      "Epoch 22/70\n",
      "40000/40000 [==============================] - 71s 2ms/step - loss: 2.4082 - acc: 0.3792 - val_loss: 2.2835 - val_acc: 0.4165\n",
      "Epoch 23/70\n",
      "40000/40000 [==============================] - 71s 2ms/step - loss: 2.3659 - acc: 0.3869 - val_loss: 2.2572 - val_acc: 0.4327\n",
      "Epoch 24/70\n",
      "40000/40000 [==============================] - 70s 2ms/step - loss: 2.3306 - acc: 0.3945 - val_loss: 2.3255 - val_acc: 0.4148\n",
      "Epoch 25/70\n",
      "40000/40000 [==============================] - 69s 2ms/step - loss: 2.2900 - acc: 0.4052 - val_loss: 2.2243 - val_acc: 0.4329\n",
      "Epoch 26/70\n",
      "40000/40000 [==============================] - 72s 2ms/step - loss: 2.2714 - acc: 0.4118 - val_loss: 2.2007 - val_acc: 0.4451\n",
      "Epoch 27/70\n",
      "40000/40000 [==============================] - 73s 2ms/step - loss: 2.2298 - acc: 0.4186 - val_loss: 2.0969 - val_acc: 0.4593\n",
      "Epoch 28/70\n",
      "40000/40000 [==============================] - 72s 2ms/step - loss: 2.2027 - acc: 0.4261 - val_loss: 2.1708 - val_acc: 0.4507\n",
      "Epoch 29/70\n",
      "40000/40000 [==============================] - 70s 2ms/step - loss: 2.1772 - acc: 0.4329 - val_loss: 2.1455 - val_acc: 0.4545\n",
      "Epoch 30/70\n",
      "40000/40000 [==============================] - 70s 2ms/step - loss: 2.1500 - acc: 0.4389 - val_loss: 2.2203 - val_acc: 0.4385\n",
      "Epoch 31/70\n",
      "40000/40000 [==============================] - 71s 2ms/step - loss: 2.1297 - acc: 0.4417 - val_loss: 2.1078 - val_acc: 0.4685\n",
      "Epoch 32/70\n",
      "40000/40000 [==============================] - 70s 2ms/step - loss: 2.1106 - acc: 0.4506 - val_loss: 2.1033 - val_acc: 0.4668\n",
      "Epoch 33/70\n",
      "40000/40000 [==============================] - 69s 2ms/step - loss: 2.0894 - acc: 0.4542 - val_loss: 2.0476 - val_acc: 0.4803\n",
      "Epoch 34/70\n",
      "40000/40000 [==============================] - 70s 2ms/step - loss: 2.0742 - acc: 0.4574 - val_loss: 2.1380 - val_acc: 0.4587\n",
      "Epoch 35/70\n",
      "40000/40000 [==============================] - 73s 2ms/step - loss: 2.0538 - acc: 0.4608 - val_loss: 2.0311 - val_acc: 0.4878\n",
      "Epoch 36/70\n",
      "40000/40000 [==============================] - 72s 2ms/step - loss: 2.0293 - acc: 0.4673 - val_loss: 2.0528 - val_acc: 0.4832\n",
      "Epoch 37/70\n",
      "40000/40000 [==============================] - 69s 2ms/step - loss: 2.0148 - acc: 0.4705 - val_loss: 2.0526 - val_acc: 0.4816\n",
      "Epoch 38/70\n",
      "40000/40000 [==============================] - 70s 2ms/step - loss: 2.0063 - acc: 0.4741 - val_loss: 2.0174 - val_acc: 0.4882\n",
      "Epoch 39/70\n",
      "40000/40000 [==============================] - 70s 2ms/step - loss: 1.9945 - acc: 0.4761 - val_loss: 2.1008 - val_acc: 0.4709\n",
      "Epoch 40/70\n",
      "40000/40000 [==============================] - 70s 2ms/step - loss: 1.9951 - acc: 0.4778 - val_loss: 2.0476 - val_acc: 0.4817\n",
      "Epoch 41/70\n",
      "40000/40000 [==============================] - 70s 2ms/step - loss: 1.9779 - acc: 0.4832 - val_loss: 2.1232 - val_acc: 0.4705\n",
      "Epoch 42/70\n",
      "40000/40000 [==============================] - 68s 2ms/step - loss: 1.9682 - acc: 0.4815 - val_loss: 2.0127 - val_acc: 0.4935\n",
      "Epoch 43/70\n",
      "40000/40000 [==============================] - 73s 2ms/step - loss: 1.9611 - acc: 0.4864 - val_loss: 2.0368 - val_acc: 0.4870\n",
      "Epoch 44/70\n",
      "40000/40000 [==============================] - 73s 2ms/step - loss: 1.9425 - acc: 0.4909 - val_loss: 2.0831 - val_acc: 0.4853\n",
      "Epoch 45/70\n",
      "40000/40000 [==============================] - 70s 2ms/step - loss: 1.9488 - acc: 0.4887 - val_loss: 2.0532 - val_acc: 0.4867\n",
      "Epoch 46/70\n",
      "40000/40000 [==============================] - 70s 2ms/step - loss: 1.9409 - acc: 0.4916 - val_loss: 2.1807 - val_acc: 0.4610\n",
      "Epoch 47/70\n",
      "40000/40000 [==============================] - 70s 2ms/step - loss: 1.9374 - acc: 0.4911 - val_loss: 1.9895 - val_acc: 0.5027\n",
      "Epoch 48/70\n",
      "40000/40000 [==============================] - 72s 2ms/step - loss: 1.9244 - acc: 0.4961 - val_loss: 2.1295 - val_acc: 0.4720\n",
      "Epoch 49/70\n",
      "40000/40000 [==============================] - 71s 2ms/step - loss: 1.9178 - acc: 0.4977 - val_loss: 2.1119 - val_acc: 0.4687\n",
      "Epoch 50/70\n",
      "40000/40000 [==============================] - 69s 2ms/step - loss: 1.9026 - acc: 0.5008 - val_loss: 2.0540 - val_acc: 0.4868\n",
      "Epoch 51/70\n",
      "40000/40000 [==============================] - 69s 2ms/step - loss: 1.9122 - acc: 0.4992 - val_loss: 2.0750 - val_acc: 0.4860\n",
      "Epoch 52/70\n",
      "40000/40000 [==============================] - 74s 2ms/step - loss: 1.8951 - acc: 0.5030 - val_loss: 2.1074 - val_acc: 0.4763\n",
      "Epoch 53/70\n",
      "40000/40000 [==============================] - 73s 2ms/step - loss: 1.9104 - acc: 0.4985 - val_loss: 2.0105 - val_acc: 0.4934\n",
      "Epoch 54/70\n",
      "40000/40000 [==============================] - 71s 2ms/step - loss: 1.9041 - acc: 0.5004 - val_loss: 2.0820 - val_acc: 0.4801\n",
      "Epoch 55/70\n",
      "40000/40000 [==============================] - 70s 2ms/step - loss: 1.9133 - acc: 0.4995 - val_loss: 2.0578 - val_acc: 0.4905\n",
      "Epoch 56/70\n",
      "40000/40000 [==============================] - 70s 2ms/step - loss: 1.8955 - acc: 0.5065 - val_loss: 2.0320 - val_acc: 0.4928\n",
      "Epoch 57/70\n",
      "40000/40000 [==============================] - 71s 2ms/step - loss: 1.9036 - acc: 0.5013 - val_loss: 2.1053 - val_acc: 0.4843\n",
      "Epoch 58/70\n",
      "40000/40000 [==============================] - 71s 2ms/step - loss: 1.8968 - acc: 0.5045 - val_loss: 2.0731 - val_acc: 0.4847\n",
      "Epoch 59/70\n",
      "40000/40000 [==============================] - 69s 2ms/step - loss: 1.8989 - acc: 0.5033 - val_loss: 2.0789 - val_acc: 0.4850\n",
      "Epoch 60/70\n",
      "40000/40000 [==============================] - 69s 2ms/step - loss: 1.8954 - acc: 0.5055 - val_loss: 2.0424 - val_acc: 0.4953\n",
      "Epoch 61/70\n",
      "40000/40000 [==============================] - 73s 2ms/step - loss: 1.9000 - acc: 0.5033 - val_loss: 2.1004 - val_acc: 0.4804\n",
      "Epoch 62/70\n",
      "40000/40000 [==============================] - 74s 2ms/step - loss: 1.8934 - acc: 0.5069 - val_loss: 2.1199 - val_acc: 0.4769\n",
      "Epoch 63/70\n",
      "40000/40000 [==============================] - 70s 2ms/step - loss: 1.8969 - acc: 0.5062 - val_loss: 2.0917 - val_acc: 0.4818\n",
      "Epoch 64/70\n",
      "40000/40000 [==============================] - 71s 2ms/step - loss: 1.8922 - acc: 0.5058 - val_loss: 1.9781 - val_acc: 0.5037\n",
      "Epoch 65/70\n",
      "40000/40000 [==============================] - 69s 2ms/step - loss: 1.8933 - acc: 0.5056 - val_loss: 2.1581 - val_acc: 0.4713\n",
      "Epoch 66/70\n",
      "40000/40000 [==============================] - 70s 2ms/step - loss: 1.8848 - acc: 0.5107 - val_loss: 2.1230 - val_acc: 0.4764\n",
      "Epoch 67/70\n",
      "40000/40000 [==============================] - 70s 2ms/step - loss: 1.9084 - acc: 0.5047 - val_loss: 2.2052 - val_acc: 0.4594\n",
      "Epoch 68/70\n",
      "40000/40000 [==============================] - 69s 2ms/step - loss: 1.8916 - acc: 0.5096 - val_loss: 2.0597 - val_acc: 0.4872\n",
      "Epoch 69/70\n",
      "40000/40000 [==============================] - 70s 2ms/step - loss: 1.8874 - acc: 0.5092 - val_loss: 2.0617 - val_acc: 0.4848\n",
      "Epoch 70/70\n",
      "40000/40000 [==============================] - 73s 2ms/step - loss: 1.8981 - acc: 0.5081 - val_loss: 2.0722 - val_acc: 0.4882\n"
     ]
    },
    {
     "data": {
      "text/plain": [
       "<keras.callbacks.History at 0x7f853c08b7b8>"
      ]
     },
     "execution_count": 20,
     "metadata": {
      "tags": []
     },
     "output_type": "execute_result"
    }
   ],
   "source": [
    "model.fit(X_train, Y_train_class, validation_data=(X_val, Y_val_class), epochs=70)"
   ]
  },
  {
   "cell_type": "code",
   "execution_count": 0,
   "metadata": {
    "colab": {},
    "colab_type": "code",
    "id": "nI5bbwSW8N-9"
   },
   "outputs": [],
   "source": []
  }
 ],
 "metadata": {
  "accelerator": "GPU",
  "colab": {
   "collapsed_sections": [],
   "name": "Copy of VGG.ipynb",
   "provenance": []
  },
  "kernelspec": {
   "display_name": "Python 3",
   "language": "python",
   "name": "python3"
  },
  "language_info": {
   "codemirror_mode": {
    "name": "ipython",
    "version": 3
   },
   "file_extension": ".py",
   "mimetype": "text/x-python",
   "name": "python",
   "nbconvert_exporter": "python",
   "pygments_lexer": "ipython3",
   "version": "3.7.3"
  }
 },
 "nbformat": 4,
 "nbformat_minor": 1
}
